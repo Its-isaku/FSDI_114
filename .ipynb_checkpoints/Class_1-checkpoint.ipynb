{
 "cells": [
  {
   "cell_type": "code",
   "execution_count": 3,
   "id": "fd0da35e-a589-451b-a993-52e46145c613",
   "metadata": {},
   "outputs": [
    {
     "name": "stdout",
     "output_type": "stream",
     "text": [
      "H\n",
      "e\n",
      "l\n",
      "l\n",
      "o\n",
      " \n",
      "w\n",
      "o\n",
      "r\n",
      "l\n",
      "d\n"
     ]
    }
   ],
   "source": [
    "for char in \"Hello world\":\n",
    "    print(char)\n",
    "# press SHIFT + ENTER"
   ]
  },
  {
   "cell_type": "markdown",
   "id": "3e4797df-067d-4b32-97aa-7a8209a6804b",
   "metadata": {},
   "source": [
    "# Problem 1\n",
    "Given a pair of strings, determine if these strings are anagrams of each other. Return True if they are, False otherwise.\n",
    "\n",
    "## Criteria\n",
    "**Two strings are said to be anagrams of each other if the criteria below are met:**\n",
    "1. They must use the same letters, the same amount of times.\n",
    "2. They must be equal length.\n",
    "\n",
    "## Exampple\n",
    "```\n",
    "earth and heart\n",
    "cars and scar\n",
    "rats and star\n",
    "etc...\n",
    "```"
   ]
  },
  {
   "cell_type": "code",
   "execution_count": 23,
   "id": "f1fd89a6-2c3e-44b7-a880-e1616a334917",
   "metadata": {},
   "outputs": [],
   "source": [
    "#  Define my function \"anagram_check\" with parameters: s1 and s2 (of type string)\n",
    "# s1 = s1 without spaces and in lowecase\n",
    "# s2 = s2 without spaces and in lowecase\n",
    "# if the length oh s1 is not equal to the length of s2:\n",
    "#    return False\n",
    "# otherwise:\n",
    "#    d1 = new directory\n",
    "#    d2 = new directory\n",
    "#    for each number in the range from 0 to the length of s1:\n",
    "#        if the caracter at position \"number\" in s1 is in d1:\n",
    "#            add 1 to the number of time i've seen that caracter in d1\n",
    "#        otherwise:\n",
    "#            crearte a new entry for that caracter in d1 and set the value to 1\n",
    "#        if the caracter ar position \"number\" in s2 is in d2:\n",
    "#            add 1 to the number of times i,ve seen that caracter in d2\n",
    "#        otherwise:\n",
    "#            crearte a new entry for that caracter in d2 and set the value to 1\n",
    "#     if d1 is equal to d2:\n",
    "#         return True\n",
    "#      otherwise:\n",
    "#         return False\n",
    "# <|------------------------------------------------------------------------------------------------------------------------------------|>\n",
    "\n",
    "def anagram_check(s1, s2):\n",
    "    s1 = (s1.replace(\" \", \"\")).lower()            # Removes blank spaces and makes them lowecase\n",
    "    s2 = (s2.replace(\" \", \"\")).lower()            # Removes blank spaces and makes them lowecase\n",
    "\n",
    "    if len(s1) != len(s2):                        # Compares the length of bouth strings\n",
    "        return False                            \n",
    "    else:\n",
    "        d1 = {}                                   # create a dictionary for string1\n",
    "        d2 = {}                                   # create a dictionary for string2\n",
    "\n",
    "        for num in range(len(s1)):        \n",
    "            d1[s1[num]] = d1.get(s1[num], 0) + 1  # use ternaries to add the caracter or +1\n",
    "            d2[s2[num]] = d2.get(s2[num], 0) + 1  # use ternaries to add the caracter or +1\n",
    "\n",
    "        return d1 == d2                           # compare directly in the return statment\n",
    "\n",
    "\n",
    "# shorter  version\n",
    "def anagram_checkV2(s1, s2):\n",
    "    def sigle_checker(s):\n",
    "        d = {}\n",
    "        for char in s.replace(\" \", \"\").lower():\n",
    "            d[char] = d.get(char, 0) + 1\n",
    "        return d\n",
    "\n",
    "    return sigle_checker(s1) == sigle_checker(s2)"
   ]
  },
  {
   "cell_type": "code",
   "execution_count": 24,
   "id": "671665b0-0eac-4ee0-8f2b-aa9740e2878c",
   "metadata": {},
   "outputs": [
    {
     "data": {
      "text/plain": [
       "True"
      ]
     },
     "execution_count": 24,
     "metadata": {},
     "output_type": "execute_result"
    }
   ],
   "source": [
    "anagram_check(\"I am Lord Voldemort\",\"Tom Marvolo Riddle\")\n",
    "anagram_checkV2(\"I am Lord Voldemort\",\"Tom Marvolo Riddle\")"
   ]
  },
  {
   "cell_type": "code",
   "execution_count": null,
   "id": "ac0c3a1f-736d-456c-82fa-6e095ae8e35e",
   "metadata": {},
   "outputs": [],
   "source": []
  }
 ],
 "metadata": {
  "kernelspec": {
   "display_name": "Python 3 (ipykernel)",
   "language": "python",
   "name": "python3"
  },
  "language_info": {
   "codemirror_mode": {
    "name": "ipython",
    "version": 3
   },
   "file_extension": ".py",
   "mimetype": "text/x-python",
   "name": "python",
   "nbconvert_exporter": "python",
   "pygments_lexer": "ipython3",
   "version": "3.12.3"
  }
 },
 "nbformat": 4,
 "nbformat_minor": 5
}
