{
 "cells": [
  {
   "cell_type": "markdown",
   "id": "c0970033-435c-4bb6-91e9-051f8a6846cc",
   "metadata": {},
   "source": [
    "# Stacks and Queues\n",
    "\n",
    "## Stack \n",
    "* A `Stack` is an orderd collection of elements where items are added and removed form the `top`. The ordering principle is represented in the acronym LIFO(last in, **First** Out).\n",
    "\n",
    "## Queue\n",
    "* A `Queue` is an orderd collection of elements where items are added at the back or rear of the queue and removed from the front. The ordiring pricipal is represented in the acronym **FIFO**(First in, Last Out) -- or first Come, First Served. "
   ]
  },
  {
   "cell_type": "code",
   "execution_count": 1,
   "id": "4788724c-b3d0-4783-9ca6-ee14cbd35750",
   "metadata": {},
   "outputs": [],
   "source": [
    "# Simplified implementations o Stack and Queue\n",
    "# These are simplefied because they rely heavily on \"built-ins\"\n",
    "\n",
    "# <|---------------------------STACK---------------------------|>\n",
    "class Stack:\n",
    "    def __init__(self):\n",
    "        self.items = []\n",
    "\n",
    "    def push(self, value):\n",
    "        self.items.append(value)\n",
    "\n",
    "    def pop(self):\n",
    "        return self.items.pop()\n",
    "\n",
    "    # Nice to have Methods\n",
    "    def peek(self):\n",
    "        return self.items[len(self.items)-1]\n",
    "\n",
    "    def size(self):\n",
    "        return len(self.items)\n",
    "\n",
    "    def is_empty(self):\n",
    "        return self.items == []\n",
    "\n",
    "# <|---------------------------QUEUE---------------------------|>\n",
    "class Queue:\n",
    "    def __init__(self):\n",
    "        self.items = []\n",
    "\n",
    "    def enqueue(self, value):\n",
    "        self.items.insert(0, value)\n",
    "\n",
    "    def dequeue(self):\n",
    "        return self.items.pop()\n",
    "\n",
    "     # Nice to have Methods\n",
    "    def peek(self):\n",
    "        return self.items[len(self.items)-1]\n",
    "\n",
    "    def size(self):\n",
    "        return len(self.items)\n",
    "\n",
    "    def is_empty(self):\n",
    "        return self.items == []"
   ]
  },
  {
   "cell_type": "code",
   "execution_count": 2,
   "id": "bda440e3-ac5f-4375-a490-5ee9af74b0e9",
   "metadata": {},
   "outputs": [],
   "source": [
    "# A Stack can Naturaly invert a collection of elements if these are pushed and popped sequentially\n",
    "\n",
    "#<|-----------------------------------------------COODE--------------------------------------------------|> \n",
    "\n",
    "def invert_str(myString):          # O(1)\n",
    "    stack = Stack()                # O(1)\n",
    "    \n",
    "    for char in myString:          # O(n)\n",
    "        stack.push(char)           # ...\n",
    "        \n",
    "    out = \"\"                       # O(1)\n",
    "\n",
    "    while not stack.is_empty():    # O(n)\n",
    "        out += stack.pop()         # ...\n",
    "    return out                     # O(1)\n",
    "    \n",
    "#<|-----------------------------------------------END CODE-----------------------------------------------|> \n",
    "    \n",
    "# Total tile complexity = O(1) + O(1) + O(n) + O(1) + O(n) + O(1)\n",
    "#  Total = 2*O(n) + 4*(1)\n",
    "#  Total = O(2n) + O(4)\n",
    "#  But in big O, we only care about the faster growing number. Everything else is dicarded.\n",
    "# real total time complexity is = O(n)\n",
    "\n",
    "#<|-----------------------------------------------COODE--------------------------------------------------|> \n",
    "\n",
    "# arg = 10\n",
    "# for num_A in range(0, arg):      #O(n)\n",
    "#     for num_B in range(0, arg):  #O(n)\n",
    "#         print(num_A * num_B)\n",
    "    \n",
    "#<|-----------------------------------------------END CODE-----------------------------------------------|> \n",
    "\n",
    "# Total = O(n) * O(n)\n",
    "# worst case time copmplexity is O(n^2)"
   ]
  },
  {
   "cell_type": "code",
   "execution_count": 3,
   "id": "bb5b0800-a02d-4bfd-b0ba-0ccb6fcbe76c",
   "metadata": {},
   "outputs": [
    {
     "data": {
      "text/plain": [
       "'zaremlA iasI'"
      ]
     },
     "execution_count": 3,
     "metadata": {},
     "output_type": "execute_result"
    }
   ],
   "source": [
    "invert_str(\"Isai Almeraz\")"
   ]
  },
  {
   "cell_type": "code",
   "execution_count": 1,
   "id": "2e639282-9d63-48ae-9797-fecb015780d1",
   "metadata": {},
   "outputs": [],
   "source": [
    "# From scarth implementation of Stack (not usung buil-ins)\n",
    "\n",
    "# <|---------------------------STACK---------------------------|>\n",
    "class StackII:\n",
    "    class __Node:\n",
    "        def __init__(self, datum):\n",
    "            self.data = datum\n",
    "            self.below = None\n",
    "    \n",
    "    def __init__(self):\n",
    "        self.top = None\n",
    "        self.count = 0\n",
    "\n",
    "    def push(self, value):\n",
    "        new_node = self.__Node(value)\n",
    "        if not self.top:\n",
    "            self.top = new_node\n",
    "            self.count += 1\n",
    "        else:\n",
    "            new_node.below = self.top\n",
    "            self.top = new_node\n",
    "            self.count += 1\n",
    "\n",
    "    def pop(self):\n",
    "        if self.top:\n",
    "            backup = self.top.data\n",
    "            self.top = self.top.below\n",
    "            self.count -= 1\n",
    "            return backup\n",
    "        raise IndexError(\"Stack is empty\")\n",
    "\n",
    "    def __str__(self):\n",
    "        elements = []\n",
    "        current = self.top\n",
    "        while current:\n",
    "            elements.append(str(current.data))\n",
    "            current = current.below\n",
    "        return \"Stack elements (Top -> bottom): [\" + \" -> \" .join(elements) + \"]\"\n",
    "        \n",
    "    # Nice to have methods\n",
    "    def peek(self):\n",
    "        if self.top:\n",
    "            return self.top.data\n",
    "        raise IndexError(\"Stack is empty\")\n",
    "\n",
    "    def size(self):\n",
    "        return self.count\n",
    "\n",
    "    def is_empty(self):\n",
    "        return self.top == None\n",
    "\n",
    "# <|---------------------------QUEUE---------------------------|>\n",
    "\n",
    "class QueueII:\n",
    "    class __Node:\n",
    "        def __init__(self, datum):\n",
    "            self.data = datum\n",
    "            self.below  = None\n",
    "\n",
    "    def __init__(self):\n",
    "        self.top = None\n",
    "        self.back = None\n",
    "        self.count = 0\n",
    "\n",
    "    def enqueue(self, value):\n",
    "        new_node = self.__Node(value)\n",
    "        if not self.back:\n",
    "            self.top = self.back =new_node\n",
    "            self.count += 1\n",
    "        else:\n",
    "            self.back.below = new_node\n",
    "            self.back = new_node\n",
    "            self.count += 1\n",
    "\n",
    "    def __str__(self):\n",
    "        elements = []\n",
    "        current = self.top\n",
    "        while current:\n",
    "            elements.append(str(current.data))\n",
    "            current = current.below\n",
    "        return \"Queue elements (Top -> bottom): [\" + \" -> \" .join(elements) + \"]\"\n",
    "        \n",
    "    def dequeue(self):\n",
    "        if not self.top:\n",
    "            raise IndexError(\"Queue is empty\")\n",
    "        removed_data = self.top.data\n",
    "        self.top = self.top.below\n",
    "        self.count -= 1\n",
    "        if not self.top:\n",
    "            self.back = None\n",
    "        return removed_data\n",
    "    \n",
    "    # Nice to have methods\n",
    "    def peek(self):\n",
    "        if self.top:\n",
    "            return self.top.data\n",
    "        raise IndexError(\"Queue is empty\")\n",
    "\n",
    "    def size(self):\n",
    "        return self.count\n",
    "\n",
    "    def is_empty(self):\n",
    "        return self.top == None"
   ]
  },
  {
   "cell_type": "markdown",
   "id": "a9fc6d7b-3783-48d2-90d5-be4c4febd13f",
   "metadata": {},
   "source": [
    "# Problem 1\n",
    "* Optimize the `size` operation for StackII such that it has a worst case time complexity of O(1).\n",
    "* You can make changes to any part of the StackII class to achieve this (even multiple locations as needed).\n",
    "\n",
    "# Problem 2\n",
    "* Implement a `QueueII` class, which is a _from scratch_ implementation of Queue, not relying on built-ins. It should at a minimum, have an embedded `Node` class, an enqueue method (with O(1) time complexity) and a dequeue method (with O(1) time complexity). \n",
    "* Bonus points if you add peek, size and is_empty (and size has O(1) time complexity).\n",
    "\n",
    "# Bonus\n",
    "1. Test your classes. For example, re-design the `invert_str` to use `StackII` instead of `Stack`. Check whether it inverts strings.  \n",
    "2. How can you display the full contents of StackII and QueueII? Override the `__str__` method for both of these so that it allows you to see their full contents.\n"
   ]
  },
  {
   "cell_type": "code",
   "execution_count": 5,
   "id": "7fc4c02d-d1c3-48ec-b918-83f33b5e1fa2",
   "metadata": {},
   "outputs": [],
   "source": [
    "def invert_strII(myString):        # O(1)\n",
    "    stack = StackII()              # O(1)\n",
    "    \n",
    "    for char in myString:          # O(n)\n",
    "        stack.push(char)           # ...\n",
    "        \n",
    "    out = \"\"                       # O(1)\n",
    "\n",
    "    while not stack.is_empty():    # O(n)\n",
    "        out += stack.pop()         # ...\n",
    "    return out                     # O(1)"
   ]
  },
  {
   "cell_type": "code",
   "execution_count": 6,
   "id": "4a98a8f6-e324-4573-a2dc-f9aef750ab7c",
   "metadata": {},
   "outputs": [
    {
     "data": {
      "text/plain": [
       "'zaremlA iasI'"
      ]
     },
     "execution_count": 6,
     "metadata": {},
     "output_type": "execute_result"
    }
   ],
   "source": [
    "invert_strII(\"Isai Almeraz\")"
   ]
  },
  {
   "cell_type": "code",
   "execution_count": 2,
   "id": "94deacff-5a75-438f-8dad-01e8b374003a",
   "metadata": {},
   "outputs": [
    {
     "name": "stdout",
     "output_type": "stream",
     "text": [
      "Stack elements (Top -> bottom): [3 -> 2 -> 1]\n",
      "Queue elements (Top -> bottom): [10 -> 20 -> 30]\n"
     ]
    }
   ],
   "source": [
    "s = StackII()\n",
    "s.push(1)\n",
    "s.push(2)\n",
    "s.push(3)\n",
    "print(s)\n",
    " \n",
    "# \n",
    "q = QueueII()\n",
    "q.enqueue(10)\n",
    "q.enqueue(20)\n",
    "q.enqueue(30)\n",
    "print(q)\n"
   ]
  },
  {
   "cell_type": "code",
   "execution_count": null,
   "id": "ea0e8569-3786-4cb8-b31a-26b30275fcc5",
   "metadata": {},
   "outputs": [],
   "source": []
  }
 ],
 "metadata": {
  "kernelspec": {
   "display_name": "Python 3 (ipykernel)",
   "language": "python",
   "name": "python3"
  },
  "language_info": {
   "codemirror_mode": {
    "name": "ipython",
    "version": 3
   },
   "file_extension": ".py",
   "mimetype": "text/x-python",
   "name": "python",
   "nbconvert_exporter": "python",
   "pygments_lexer": "ipython3",
   "version": "3.12.3"
  }
 },
 "nbformat": 4,
 "nbformat_minor": 5
}
