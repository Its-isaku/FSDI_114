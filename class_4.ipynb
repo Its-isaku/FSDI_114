{
 "cells": [
  {
   "cell_type": "markdown",
   "id": "507473cf-8579-4ff9-8a55-2343d2e14f8e",
   "metadata": {},
   "source": [
    "# Recursive Functions\n",
    "\n",
    "A function is said to be \"recursive\" if it calls itself at least once during execution. Most recursive functions have an exit condition typically referred to as the \"base case\".\n",
    " "
   ]
  },
  {
   "cell_type": "code",
   "execution_count": 8,
   "id": "93038160-c441-4f9c-957e-a196ef8ca07c",
   "metadata": {},
   "outputs": [],
   "source": [
    "# Factorials The factorial of a number \"N\" is respresented as N! and is equal to the product on N and all the numbers precending it, until reaching 1.\n",
    "\n",
    "# <|----------------------Exalmple----------------------|>\n",
    "#                     5! = 5x4x3x2x1\n",
    "# <|----------------------------------------------------|>\n",
    "\n",
    "# When it comes to factorial, a common convention is that 0! = 1\n",
    "\n",
    "# <|------------------------Code------------------------|>\n",
    "\n",
    "def factorial(n):\n",
    "    if n == 0:\n",
    "        return 1\n",
    "    return n*factorial(n-1)"
   ]
  },
  {
   "cell_type": "code",
   "execution_count": 9,
   "id": "7efca27e-3ce2-48fe-be52-c699f84b67cf",
   "metadata": {},
   "outputs": [
    {
     "data": {
      "text/plain": [
       "3628800"
      ]
     },
     "execution_count": 9,
     "metadata": {},
     "output_type": "execute_result"
    }
   ],
   "source": [
    "factorial(10)"
   ]
  },
  {
   "cell_type": "code",
   "execution_count": 21,
   "id": "e79dec6b-df77-4f2e-9195-e04a5b7a8673",
   "metadata": {},
   "outputs": [],
   "source": [
    "# Fibonachi is a series o numbers givin for the following equations:\n",
    "# Fn = F(n-1) + F(n-2)\n",
    "\n",
    "# There are two absolute base cases:\n",
    "# F0 = 0 | F1 = 1\n",
    "\n",
    "# <|----------------------Exalmple----------------------|>\n",
    "#               0, 1, 1, 2, 3, 5, 8, 13, 21...\n",
    "# <|----------------------------------------------------|>\n",
    "\n",
    "# <|------------------------Code------------------------|>\n",
    "\n",
    "from functools import lru_cache\n",
    "\n",
    "@lru_cache\n",
    "def fibonacci(n):\n",
    "    if n < 2:\n",
    "        return n\n",
    "    return fibonacci(n - 1) + fibonacci(n - 2)"
   ]
  },
  {
   "cell_type": "code",
   "execution_count": 25,
   "id": "62413a6b-b9d8-4634-863d-a9b34aafb6a4",
   "metadata": {},
   "outputs": [
    {
     "data": {
      "text/plain": [
       "43466557686937456435688527675040625802564660517371780402481729089536555417949051890403879840079255169295922593080322634775209689623239873322471161642996440906533187938298969649928516003704476137795166849228875"
      ]
     },
     "execution_count": 25,
     "metadata": {},
     "output_type": "execute_result"
    }
   ],
   "source": [
    "fibonacci(1000)"
   ]
  },
  {
   "cell_type": "code",
   "execution_count": 28,
   "id": "381b0062-4817-4f01-981a-0522e5490209",
   "metadata": {},
   "outputs": [],
   "source": [
    "cache = {}\n",
    "def fib(n):\n",
    "    if n in cache:\n",
    "        return cache[n]\n",
    "    if n < 2:\n",
    "        return n\n",
    "    cache[n] = fib(n-1) + fib(n-2)\n",
    "    return cache[n]"
   ]
  },
  {
   "cell_type": "code",
   "execution_count": 29,
   "id": "3f667181-14bc-48f6-8c10-b21444f72f02",
   "metadata": {},
   "outputs": [
    {
     "data": {
      "text/plain": [
       "354224848179261915075"
      ]
     },
     "execution_count": 29,
     "metadata": {},
     "output_type": "execute_result"
    }
   ],
   "source": [
    "fib(100)"
   ]
  },
  {
   "cell_type": "code",
   "execution_count": 31,
   "id": "ee213cd2-d978-46c6-ad02-b978ae47ef3d",
   "metadata": {},
   "outputs": [],
   "source": [
    "key = [0, 0, 0, 0, 0, 0, 0, 52, 0, 0]\n",
    "value = [0, 0, 0, 0, 0, 0, 0, 0, 32951280099, 0, 0]\n",
    "\n",
    "def simple_hash(param):\n",
    "    return param % len(key)"
   ]
  },
  {
   "cell_type": "code",
   "execution_count": 32,
   "id": "38f53b46-cf4b-49d1-af46-7534588a40fa",
   "metadata": {},
   "outputs": [
    {
     "name": "stdout",
     "output_type": "stream",
     "text": [
      "7\n"
     ]
    }
   ],
   "source": [
    "print(simple_hash(77))"
   ]
  },
  {
   "cell_type": "code",
   "execution_count": null,
   "id": "cb439ad4-7184-437d-9db8-67d0e38a87c1",
   "metadata": {},
   "outputs": [],
   "source": []
  }
 ],
 "metadata": {
  "kernelspec": {
   "display_name": "Python 3 (ipykernel)",
   "language": "python",
   "name": "python3"
  },
  "language_info": {
   "codemirror_mode": {
    "name": "ipython",
    "version": 3
   },
   "file_extension": ".py",
   "mimetype": "text/x-python",
   "name": "python",
   "nbconvert_exporter": "python",
   "pygments_lexer": "ipython3",
   "version": "3.12.3"
  }
 },
 "nbformat": 4,
 "nbformat_minor": 5
}
